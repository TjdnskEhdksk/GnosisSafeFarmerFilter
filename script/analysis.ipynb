{
 "cells": [
  {
   "cell_type": "markdown",
   "metadata": {},
   "source": [
    "### Variables from Gnosis data\n",
    "* ```python\n",
    "  creatorToSafe = creatorAddr: {(safeAddr_1, txHash_1), ..., (safeAddr_n, txHash_n)}\n",
    "  ```\n",
    "* \n",
    "  ```python\n",
    "  ownerToSafe = ownerAddr: {safeAddr_1, ..., safeAddr_n}\n",
    "  ```\n",
    "* ```python\n",
    "  safeToInfo = safeAddr: {\n",
    "      'creator': (creatorAddr, txHash),\n",
    "      'owner': {owner_1, ..., owner_n},\n",
    "      'transfer': [\n",
    "          (from, to, isNativeTokenTransfer, txHash),\n",
    "          ...,\n",
    "          (from, to, isNativeTokenTransfer, txHash)\n",
    "      ]\n",
    "  }\n",
    "  ```\n",
    "\n",
    "* ```python\n",
    "  allCreatorAddrs = set(creatorToSafe.keys())\n",
    "  ```\n",
    "* ```python\n",
    "  allOwnerAddrs = set(ownerToSafe.keys())\n",
    "  ```\n",
    "* ```python\n",
    "  allSafeAddrs = set(safeToInfo.keys())\n",
    "  ```\n",
    "* ```python\n",
    "  allGnosisAddrs = allSafeAddrs.union(allOwnerAddrs).union(allCreatorAddrs)\n",
    "  ```\n",
    "\n",
    "### Variables from distributeEth data\n",
    "* ```python\n",
    "  distributes # '../static/distributeEth_15503366.json'\n",
    "  ```\n",
    "* ```python\n",
    "  involvedAddrInfo # '../static/distributeEth_involvedAddrInfo_15503366.json'\n",
    "  ```\n",
    "\n",
    "* ```python\n",
    "  allDistributeAddrs: set(involvedAddrInfo.keys())\n",
    "  ```\n",
    "* ```python\n",
    "  suspects = {suspect_1, ..., suspect_n} # selected from allDistributeAddrs\n",
    "  ```\n",
    "\n",
    "### Variables from both\n",
    "* ```python \n",
    "  intersections = list(suspects.intersection(allGnosisAddrs))\n",
    "  ```\n"
   ]
  },
  {
   "cell_type": "code",
   "execution_count": 1,
   "metadata": {},
   "outputs": [],
   "source": [
    "from collections import defaultdict\n",
    "\n",
    "creatorToSafe = defaultdict(lambda: set())\n",
    "ownerToSafe = defaultdict(lambda: set())\n",
    "safeToInfo = defaultdict(lambda: {\n",
    "    'creator': None,\n",
    "    'owner': set(),\n",
    "    'transfer': set()\n",
    "})"
   ]
  },
  {
   "cell_type": "code",
   "execution_count": null,
   "outputs": [],
   "source": [
    "# load data file: \"transaction_histories\"\n",
    "\n",
    "import json\n",
    "from web3 import Web3\n",
    "\n",
    "with open('../static/transaction_histories', 'r') as fp:\n",
    "    for line in fp:\n",
    "        safeData = json.loads(line.rstrip())\n",
    "        safeAddr = list(safeData.keys())[0].lower()\n",
    "        allTxs = list(safeData.values())[0]\n",
    "        for tx in allTxs:\n",
    "            txInfo = tx['transaction']['txInfo']\n",
    "            # txType in {'Custom', 'Transfer', 'Creation', 'SettingsChange'}\n",
    "            txType = txInfo['type']\n",
    "            if txType == 'Creation':\n",
    "                txHash = txInfo['transactionHash'].lower()\n",
    "                creatorAddr = txInfo['creator']['value'].lower()\n",
    "                creatorToSafe[creatorAddr].add((safeAddr, txHash))\n",
    "                safeToInfo[safeAddr]['creator'] = (creatorAddr, txHash)\n",
    "            if txType == 'Transfer': \n",
    "                txHash = tx['transaction']['id']\n",
    "                if txHash.startswith('ethereum'):\n",
    "                    txHash = txHash.split('_')[2].lower()\n",
    "                tokenSymbol = ''\n",
    "                if txInfo['transferInfo']['type'] == 'NATIVE_COIN':\n",
    "                    tokenSymbol = 'ETH'\n",
    "                if txInfo['transferInfo']['type'] == 'ERC20':\n",
    "                    tokenSymbol = txInfo['transferInfo']['tokenSymbol']\n",
    "                    if not tokenSymbol:\n",
    "                        tokenSymbol = 'None'\n",
    "                    # if tokenSymbol not in {'USDC', 'USDT', 'WBTC', 'DAI', 'WETH', 'SHIB', 'HEX'}:\n",
    "                    #     continue\n",
    "                fromAddr = txInfo['sender']['value'].lower()\n",
    "                toAddr = txInfo['recipient']['value'].lower()\n",
    "                safeToInfo[safeAddr]['transfer'].add((fromAddr, toAddr, tokenSymbol, txHash + '_' + tokenSymbol))"
   ],
   "metadata": {
    "collapsed": false,
    "pycharm": {
     "name": "#%%\n"
    }
   }
  },
  {
   "cell_type": "code",
   "execution_count": null,
   "outputs": [],
   "source": [
    "# load data file: \"SafeOwners/success\"\n",
    "\n",
    "import json\n",
    "from web3 import Web3\n",
    "\n",
    "with open('../static/SafeOwners/success', 'r') as fp:\n",
    "    for line in fp:\n",
    "        safe = json.loads(line.rstrip())\n",
    "        safeAddr = safe['address']['value'].lower()\n",
    "        for owner in safe['owners']:\n",
    "            ownerAddr = owner['value'].lower()\n",
    "            ownerToSafe[ownerAddr].add(safeAddr)\n",
    "            safeToInfo[safeAddr]['owner'].add(ownerAddr)"
   ],
   "metadata": {
    "collapsed": false,
    "pycharm": {
     "name": "#%%\n"
    }
   }
  },
  {
   "cell_type": "code",
   "execution_count": null,
   "outputs": [],
   "source": [
    "allSafeAddrs = set(safeToInfo.keys())\n",
    "allOwnerAddrs = set(ownerToSafe.keys())\n",
    "allCreatorAddrs = set(creatorToSafe.keys())\n",
    "allGnosisAddrs = allSafeAddrs.union(allOwnerAddrs).union(allCreatorAddrs)\n",
    "\n",
    "print(len(allGnosisAddrs)) # 159223\n",
    "print(len(allSafeAddrs.intersection(allOwnerAddrs))) # 294\n",
    "print(len(allSafeAddrs.intersection(allCreatorAddrs))) # 66"
   ],
   "metadata": {
    "collapsed": false,
    "pycharm": {
     "name": "#%%\n"
    }
   }
  },
  {
   "cell_type": "code",
   "execution_count": null,
   "outputs": [],
   "source": [
    "# load data file: \"distributeEth_15503366.json\"\n",
    "# load data file: \"distributeEth_involvedAddrInfo_15503366.json\"\n",
    "\n",
    "import json\n",
    "\n",
    "with open('../static/distributeEth_15503366.json', 'r') as fp1:\n",
    "    distributes = json.load(fp1)\n",
    "\n",
    "\n",
    "with open('../static/distributeEth_involvedAddrInfo_15503366.json', 'r') as fp1:\n",
    "    involvedAddrInfo = json.load(fp1)\n",
    "    allDistributeAddrs = set(involvedAddrInfo.keys())\n",
    "\n",
    "print(len(distributes)) # 74683\n",
    "print(len(allDistributeAddrs)) # 588150"
   ],
   "metadata": {
    "collapsed": false,
    "pycharm": {
     "name": "#%%\n"
    }
   }
  },
  {
   "cell_type": "code",
   "execution_count": null,
   "outputs": [],
   "source": [
    "suspects = set()\n",
    "for addr, info in involvedAddrInfo.items():\n",
    "    if info['balance'] == '0' and info['nonce'] == 0:\n",
    "        suspects.add(addr)\n",
    "        \n",
    "print(len(suspects)) # 328536"
   ],
   "metadata": {
    "collapsed": false,
    "pycharm": {
     "name": "#%%\n"
    }
   }
  },
  {
   "cell_type": "code",
   "execution_count": null,
   "outputs": [],
   "source": [
    "intersections = list(suspects.intersection(allGnosisAddrs))\n",
    "intersecitons_owner = list(suspects.intersection(allOwnerAddrs))\n",
    "# intersections_tmp = list(allDistributeAddrs.intersection(allGnosisAddrs))\n",
    "\n",
    "print(len(intersections)) # 336\n",
    "print(len(intersecitons_owner)) # 334\n",
    "# print(len(intersections_tmp)) # 5233"
   ],
   "metadata": {
    "collapsed": false,
    "pycharm": {
     "name": "#%%\n"
    }
   }
  },
  {
   "cell_type": "code",
   "execution_count": null,
   "outputs": [],
   "source": [
    "import networkx as nx\n",
    "\n",
    "distributeGraph = nx.Graph()\n",
    "distributeGraph.add_nodes_from(allDistributeAddrs)\n",
    "for distribute in distributes:\n",
    "    txHash = distribute['tx_hash'].lower()\n",
    "    fromAddr = distribute['sender'].lower()\n",
    "    for toAddr in distribute['recipients']:\n",
    "        toAddr = toAddr.lower()\n",
    "        distributeGraph.add_edge(fromAddr, toAddr)\n",
    "        if 'tx_hash' in distributeGraph.edges[fromAddr, toAddr]:\n",
    "            distributeGraph.edges[fromAddr, toAddr]['tx_hash'].add(txHash)\n",
    "        else:\n",
    "            distributeGraph.edges[fromAddr, toAddr]['tx_hash'] = {txHash}\n",
    "\n",
    "allCcs = [set(cc) for cc in sorted(nx.connected_components(distributeGraph), key=len, reverse=True)]\n",
    "\n",
    "def isConnected(addr_i, addr_j): \n",
    "    for cc in allCcs:\n",
    "        if addr_i in cc and addr_j in cc:\n",
    "          return True\n",
    "    return False\n",
    "  \n",
    "print(distributeGraph.number_of_nodes(), distributeGraph.number_of_edges()) # 588150 709997"
   ],
   "metadata": {
    "collapsed": false,
    "pycharm": {
     "name": "#%%\n"
    }
   }
  },
  {
   "cell_type": "code",
   "execution_count": null,
   "outputs": [],
   "source": [
    "import networkx as nx\n",
    "\n",
    "safeGraph = nx.Graph()\n",
    "safeGraph.add_nodes_from(allSafeAddrs)\n",
    "\n",
    "def getAllRelatedSafes(addr):\n",
    "    safes = []\n",
    "    if addr in ownerToSafe:\n",
    "        safes.extend(ownerToSafe[addr])\n",
    "    if addr in creatorToSafe:\n",
    "        safes.extend([t[0] for t in creatorToSafe[addr]])\n",
    "    if addr in allSafeAddrs:\n",
    "        safes.append(addr)\n",
    "    return safes\n",
    "\n",
    "def addEdgeBetweenRelatedSafes(addr_i, addr_j, typeName, txHashes): \n",
    "    safes_i = getAllRelatedSafes(addr_i)\n",
    "    safes_j = getAllRelatedSafes(addr_j)\n",
    "        \n",
    "    for safe_i in safes_i:\n",
    "        for safe_j in safes_j:\n",
    "            safeGraph.add_edge(safe_i, safe_j)\n",
    "            safeGraph.edges[safe_i, safe_j][typeName] = True\n",
    "            if txHashes:\n",
    "                keyName = '{}-tx_hash'.format(typeName)\n",
    "                if keyName in safeGraph.edges[safe_i, safe_j]:\n",
    "                    safeGraph.edges[safe_i, safe_j][keyName].update(txHashes)\n",
    "                else:\n",
    "                    safeGraph.edges[safe_i, safe_j][keyName] = txHashes\n",
    "\n",
    "for (ownerAddr, safeAddrs) in ownerToSafe.items():\n",
    "    safeAddrs = list(safeAddrs)\n",
    "    for i in range(len(safeAddrs) - 1):\n",
    "        for j in range(i + 1, len(safeAddrs)):\n",
    "            safe_i = safeAddrs[i]\n",
    "            safe_j = safeAddrs[j]\n",
    "            owners_i = safeToInfo[safe_i]['owner'] # {owner 1}\n",
    "            owners_j = safeToInfo[safe_j]['owner'] # {}\n",
    "            if owners_i == owners_j:\n",
    "                safeGraph.add_edge(safe_i, safe_j)\n",
    "                safeGraph.edges[safe_i, safe_j]['same_owner'] = True\n",
    "    \n",
    "for (creatorAddr, safeAddrs) in creatorToSafe.items():\n",
    "    if len(safeAddrs) > 1000:\n",
    "        print(creatorAddr, len(safeAddrs))\n",
    "        continue\n",
    "    safeAddrs = list(safeAddrs)\n",
    "    for i in range(len(safeAddrs) - 1):\n",
    "        for j in range(i + 1, len(safeAddrs)):\n",
    "            (safe_i, txHash_i) = safeAddrs[i]\n",
    "            (safe_j, txHash_j) = safeAddrs[j]\n",
    "            safeGraph.add_edge(safe_i, safe_j)\n",
    "            safeGraph.edges[safe_i, safe_j]['creator'] = True\n",
    "            safeGraph.edges[safe_i, safe_j]['creator-tx_hash'] = {txHash_i, txHash_j}\n",
    "\n",
    "\n",
    "for (safeAddr, safeInfo) in safeToInfo.items():\n",
    "    safeTransfer = safeInfo['transfer']\n",
    "    for transfer in safeTransfer:\n",
    "        (fromAddr, toAddr, isNativeTransfer, txHash) = transfer\n",
    "        addEdgeBetweenRelatedSafes(fromAddr, toAddr, 'transfer', {txHash})\n",
    "    \n",
    "print(safeGraph.number_of_nodes(), safeGraph.number_of_edges()) # 55717 908956"
   ],
   "metadata": {
    "collapsed": false,
    "pycharm": {
     "name": "#%%\n"
    }
   }
  },
  {
   "cell_type": "code",
   "execution_count": null,
   "outputs": [],
   "source": [
    "for i in range(len(intersections) - 1):\n",
    "    for j in range(i + 1, len(intersections)):\n",
    "        addr_i = intersections[i]\n",
    "        addr_j = intersections[j]\n",
    "        \n",
    "        # a -> b -> c\n",
    "        # suspects { balance == 0 & nonce == 0 }\n",
    "        # intersections = list(suspects.intersection(allGnosisAddrs))\n",
    "        # intersecitons_owner = list(suspects.intersection(allOwnerAddrs))\n",
    "        \n",
    "        if isConnected(addr_i, addr_j):\n",
    "            if (addr_i, addr_j) in distributeGraph.edges:\n",
    "                txHashes = distributeGraph.edges[addr_i, addr_j]['tx_hash']\n",
    "                addEdgeBetweenRelatedSafes(addr_i, addr_j, 'distributeEth', txHashes)\n",
    "            else:\n",
    "                addEdgeBetweenRelatedSafes(addr_i, addr_j, 'distributeEth', None)\n",
    "                \n",
    "print(safeGraph.number_of_nodes(), safeGraph.number_of_edges())"
   ],
   "metadata": {
    "collapsed": false,
    "pycharm": {
     "name": "#%%\n"
    }
   }
  },
  {
   "cell_type": "code",
   "execution_count": null,
   "outputs": [],
   "source": [
    "suspects_by_owner = set()\n",
    "intersecitons_owner = set(intersecitons_owner)\n",
    "for safe in safeGraph.nodes():\n",
    "    owners = safeToInfo[safe]['owner']\n",
    "    if len(owners) == 0: \n",
    "        continue\n",
    "    if owners.issubset(intersecitons_owner):\n",
    "        subgraph = distributeGraph.subgraph(owners)\n",
    "        if nx.is_connected(subgraph):\n",
    "            suspects_by_owner.add(safe)\n",
    "            safeGraph.nodes[safe]['similar_owner'] = True\n",
    "\n",
    "print(len(suspects_by_owner))\n",
    "\n",
    "# safe1 {o1, o2, o3} \n",
    "# safe2 {o4, o5}\n",
    "# safe3 {o1, o2, o3} \n",
    "# safe4 ...\n",
    "# {o1, o2, o3, o4, o5}\n",
    "\n",
    "suspects_by_owner = list(suspects_by_owner)\n",
    "for i in range(len(suspects_by_owner) - 1):\n",
    "    for j in range(i + 1, len(suspects_by_owner)):\n",
    "        addr_i = suspects_by_owner[i]\n",
    "        addr_j = suspects_by_owner[j]\n",
    "        owners_i = list(safeToInfo[addr_i]['owner'])\n",
    "        owners_j = list(safeToInfo[addr_j]['owner'])\n",
    "        \n",
    "        if isConnected(owners_i[0], owners_j[0]):\n",
    "            safeGraph.add_edge(addr_i, addr_j)\n",
    "            safeGraph.edges[addr_i, addr_j]['similar_owner'] = True\n",
    "            if (owners_i[0], owners_j[0]) in distributeGraph.edges:\n",
    "                safeGraph.edges[addr_i, addr_j]['similar_owner-tx_hash'] = distributeGraph.edges[owners_i[0], owners_j[0]]['tx_hash']\n",
    "\n",
    "print(safeGraph.number_of_nodes(), safeGraph.number_of_edges())"
   ],
   "metadata": {
    "collapsed": false,
    "pycharm": {
     "name": "#%%\n"
    }
   }
  },
  {
   "cell_type": "code",
   "execution_count": 12,
   "metadata": {},
   "outputs": [],
   "source": [
    "def complementEdgeTypeNames(typeNames):\n",
    "    for edge in safeGraph.edges():\n",
    "        edgeType = safeGraph.edges[edge]\n",
    "        for typeName in typeNames:\n",
    "            if typeName not in edgeType:\n",
    "                edgeType[typeName] = False\n",
    "\n",
    "complementEdgeTypeNames(['creator', 'similar_owner', 'same_owner', 'transfer', 'distributeEth'])\n",
    "\n",
    "def complementNodeTypeNames(typeNames):\n",
    "    for node in safeGraph.nodes():\n",
    "        nodeType = safeGraph.nodes[node]\n",
    "        for typeName in typeNames:\n",
    "            if typeName not in nodeType:\n",
    "                nodeType[typeName] = False\n",
    "\n",
    "complementNodeTypeNames(['similar_owner'])"
   ]
  },
  {
   "cell_type": "code",
   "execution_count": 13,
   "metadata": {},
   "outputs": [],
   "source": [
    "import pickle\n",
    "\n",
    "with open('../static/networks/distributeGraph.pkl', 'wb') as f:\n",
    "    pickle.dump(distributeGraph, f)\n",
    "with open('../static/networks/safeGraph.pkl', 'wb') as f:\n",
    "    pickle.dump(safeGraph, f)"
   ]
  }
 ],
 "metadata": {
  "kernelspec": {
   "display_name": "Python 3.9.12 ('jupyter')",
   "language": "python",
   "name": "python3"
  },
  "language_info": {
   "codemirror_mode": {
    "name": "ipython",
    "version": 3
   },
   "file_extension": ".py",
   "mimetype": "text/x-python",
   "name": "python",
   "nbconvert_exporter": "python",
   "pygments_lexer": "ipython3",
   "version": "3.9.12"
  },
  "orig_nbformat": 4,
  "vscode": {
   "interpreter": {
    "hash": "8129e63ebbbf8569869990738df9c18049b9662edb17f3eef2f5bdf8dc4a3527"
   }
  }
 },
 "nbformat": 4,
 "nbformat_minor": 2
}